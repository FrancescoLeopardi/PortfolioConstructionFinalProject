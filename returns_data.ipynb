{
 "cells": [
  {
   "cell_type": "code",
   "execution_count": 8,
   "metadata": {
    "ExecuteTime": {
     "end_time": "2025-04-16T19:16:23.391989Z",
     "start_time": "2025-04-16T19:16:23.382507Z"
    },
    "id": "X9MewQfzLhs9"
   },
   "outputs": [],
   "source": [
    "import yfinance as yf"
   ]
  },
  {
   "cell_type": "code",
   "execution_count": 9,
   "metadata": {
    "ExecuteTime": {
     "end_time": "2025-04-16T19:16:23.438952Z",
     "start_time": "2025-04-16T19:16:23.419781Z"
    },
    "id": "xT-WQnCRLpy-"
   },
   "outputs": [],
   "source": [
    "tickers = [\n",
    "    \"AAPL\", \"NVDA\", \"MSFT\", \"AMZN\", \"META\", \"AVGO\", \"GOOGL\", \"TSLA\", \"GOOG\", \"BRK-B\",\n",
    "\"JPM\", \"LLY\", \"V\", \"UNH\", \"XOM\", \"COST\", \"MA\", \"WMT\", \"NFLX\", \"HD\",\n",
    "\"PG\", \"JNJ\", \"ABBV\", \"CRM\", \"BAC\", \"ORCL\", \"WFC\", \"CVX\", \"CSCO\", \"KO\",\n",
    "\"ACN\", \"PLTR\", \"IBM\", \"PM\", \"ABT\", \"GE\", \"MCD\", \"LIN\", \"MRK\", \"ISRG\",\n",
    "\"TMO\", \"NOW\", \"GS\", \"ADBE\", \"PEP\", \"DIS\", \"QCOM\", \"AMD\", \"T\", \"CAT\",\n",
    "\"AXP\", \"RTX\", \"MS\", \"VZ\", \"UBER\", \"INTU\", \"TXN\", \"SPGI\", \"BKNG\", \"AMGN\",\n",
    "\"BSX\", \"C\", \"AMAT\", \"UNP\", \"PFE\", \"PGR\", \"LOW\", \"BLK\", \"NEE\", \"TJX\",\n",
    "\"HON\", \"BA\", \"SYK\", \"CMCSA\", \"FI\", \"DHR\", \"COP\", \"PANW\", \"ETN\", \"SBUX\",\n",
    "\"ADP\", \"TMUS\", \"ANET\", \"BX\", \"SCHW\", \"VRTX\", \"DE\", \"GILD\", \"MDT\", \"BMY\",\n",
    "\"MMC\", \"PLD\", \"LRCX\", \"MU\", \"GEV\", \"ADI\", \"CEG\", \"KLAC\", \"CB\", \"CRWD\",\n",
    "\"KKR\", \"ICE\", \"LMT\", \"SO\", \"ELV\", \"MO\", \"EQIX\", \"DUK\", \"AMT\", \"PH\",\n",
    "\"CME\", \"APH\", \"INTC\", \"WELL\", \"NKE\", \"CDNS\", \"UPS\", \"AON\", \"SHW\", \"WM\",\n",
    "\"SNPS\", \"MMM\", \"CI\", \"TT\", \"AJG\", \"MSI\", \"CMG\", \"MCO\", \"PYPL\", \"PNC\",\n",
    "\"MDLZ\", \"ZTS\", \"MCK\", \"COF\", \"ORLY\", \"TDG\", \"EOG\", \"USB\", \"REGN\", \"APO\",\n",
    "\"EMR\", \"MAR\", \"CL\", \"CTAS\", \"FTNT\", \"ITW\", \"APD\", \"WMB\", \"CVS\", \"BDX\",\n",
    "\"GD\", \"ADSK\", \"HLT\", \"NOC\", \"RCL\", \"CSX\", \"TFC\", \"ECL\", \"BK\", \"ROP\",\n",
    "\"OKE\", \"TGT\", \"JCI\", \"ABNB\", \"SLB\", \"FDX\", \"HCA\", \"AZO\", \"WDAY\", \"NSC\",\n",
    "\"VST\", \"PCAR\", \"SPG\", \"CARR\", \"FCX\", \"TRV\", \"AEP\", \"NXPI\", \"NEM\", \"KMI\",\n",
    "\"HWM\", \"SRE\", \"DLR\", \"CPRT\", \"AMP\", \"AFL\", \"CMI\", \"GM\", \"PSX\", \"MPC\",\n",
    "\"ALL\", \"AXON\", \"DFS\", \"URI\", \"MET\", \"PSA\", \"O\", \"ROST\", \"PAYX\", \"AIG\",\n",
    "\"BKR\", \"D\", \"GWW\", \"PWR\", \"MSCI\", \"FICO\", \"RSG\", \"LULU\", \"TRGP\", \"TEL\",\n",
    "\"FIS\", \"KMB\", \"KR\", \"VLO\", \"CBRE\", \"COR\", \"CTSH\", \"AME\", \"CTVA\", \"DAL\",\n",
    "\"FAST\", \"EW\", \"EXC\", \"PEG\", \"VRSK\", \"YUM\", \"A\", \"GLW\", \"IT\", \"HES\",\n",
    "\"GEHC\", \"PRU\", \"LHX\", \"KVUE\", \"CCI\", \"XEL\", \"OTIS\", \"IDXX\", \"DHI\", \"ODFL\",\n",
    "\"IR\", \"F\", \"WAB\", \"IQV\", \"VMC\", \"RMD\", \"UAL\", \"KDP\", \"TTWO\",\n",
    "\"DELL\", \"SYY\", \"DXCM\", \"MPWR\", \"ACGL\", \"PCG\", \"ROK\", \"NDAQ\", \"ED\", \"MNST\",\n",
    "\"CHTR\", \"EXR\", \"GRMN\", \"MTB\", \"WTW\", \"EBAY\", \"OXY\", \"HIG\", \"MLM\", \"NUE\",\n",
    "\"GIS\", \"HUM\", \"WEC\", \"XYL\", \"EQT\", \"DD\", \"HPQ\", \"VICI\", \"CSGP\", \"EA\",\n",
    "\"EFX\", \"IRM\", \"AVB\", \"CAH\", \"KEYS\", \"FANG\", \"ANSS\", \"CNC\", \"RJF\", \"GDDY\",\n",
    "\"LEN\", \"TSCO\", \"FITB\", \"IP\", \"STT\", \"BR\", \"MTD\", \"MCHP\", \"FTV\", \"DOV\",\n",
    "\"GPN\", \"HPE\", \"CCL\", \"DOW\", \"SW\", \"PPG\", \"TYL\", \"CPAY\", \"TPL\", \"AEE\",\n",
    "\"BRO\", \"STZ\", \"DTE\", \"KHC\", \"CHD\", \"CDW\", \"SYF\", \"PPL\", \"NTAP\", \"VTR\",\n",
    "\"EXPE\", \"VLTO\", \"DECK\", \"TROW\", \"HBAN\", \"WAT\", \"EQR\", \"AWK\", \"WDC\", \"TDY\",\n",
    "\"WST\", \"LYV\", \"NVR\", \"DRI\", \"HAL\", \"HSY\", \"DVN\", \"WBD\", \"STE\", \"ES\",\n",
    "\"K\", \"SBAC\", \"ATO\", \"ADM\", \"NTRS\", \"CBOE\", \"RF\", \"WY\", \"PHM\", \"IFF\",\n",
    "\"SMCI\", \"HUBB\", \"NRG\", \"CINF\", \"CNP\", \"CTRA\", \"CFG\", \"BIIB\", \"STX\",\n",
    "\"CMS\", \"LH\", \"FE\", \"PTC\", \"PODD\", \"ON\", \"ZBH\", \"LYB\", \"EIX\", \"MKC\",\n",
    "\"LDOS\", \"STLD\", \"JBL\", \"ESS\", \"LII\", \"PKG\", \"COO\", \"TER\", \"ZBRA\", \"DGX\",\n",
    "\"TPR\", \"VRSN\", \"WRB\", \"MAA\", \"CLX\", \"TRMB\", \"LUV\", \"INVH\", \"BLDR\", \"FFIV\",\n",
    "\"SNA\", \"NI\", \"PFG\", \"ULTA\", \"FDS\", \"FSLR\", \"KEY\", \"BBY\", \"MAS\", \"J\",\n",
    "\"TSN\", \"GPC\", \"DPZ\", \"MOH\", \"PNR\", \"DG\", \"OMC\", \"EL\", \"BAX\", \"EXPD\",\n",
    "\"L\", \"LNT\", \"AKAM\", \"GEN\", \"EVRG\", \"CF\", \"HOLX\", \"APTV\", \"BALL\", \"KIM\",\n",
    "\"DLTR\", \"ARE\", \"IEX\", \"ALGN\", \"EPAM\", \"AVY\", \"AMCR\", \"LVS\", \"EG\", \"ROL\",\n",
    "\"RVTY\", \"TXT\", \"DOC\", \"JBHT\", \"KMX\", \"SWK\", \"UDR\", \"CPT\", \"POOL\", \"VTRS\",\n",
    "\"JKHY\", \"REG\", \"JNPR\", \"NDSN\", \"FOXA\", \"CAG\", \"CHRW\", \"NCLH\", \"HST\",\n",
    "\"EMN\", \"ALLE\", \"NWSA\", \"TECH\", \"SJM\", \"INCY\", \"AIZ\", \"UHS\", \"MRNA\", \"RL\",\n",
    "\"DAY\", \"BXP\", \"SWKS\", \"SOLV\", \"GL\", \"IPG\", \"ERIE\", \"PNW\", \"PAYC\", \"HSIC\",\n",
    "\"LKQ\", \"BG\", \"TAP\", \"ALB\", \"MOS\", \"GNRC\", \"APA\", \"ENPH\", \"FRT\", \"MTCH\",\n",
    "\"IVZ\", \"HRL\", \"LW\", \"CRL\", \"TFX\", \"AOS\", \"DVA\", \"HAS\", \"MGM\", \"AES\",\n",
    "\"CZR\", \"MKTX\", \"CPB\", \"CE\", \"WYNN\", \"WBA\", \"FOX\", \"HII\", \"BWA\", \"PARA\",\n",
    "\"BEN\", \"MHK\", \"BF-B\", \"FMC\", \"NWS\"\n",
    "]"
   ]
  },
  {
   "cell_type": "code",
   "execution_count": 10,
   "metadata": {
    "ExecuteTime": {
     "end_time": "2025-04-16T19:16:23.454620Z",
     "start_time": "2025-04-16T19:16:23.451650Z"
    },
    "id": "UsfAW0AJLrxK"
   },
   "outputs": [],
   "source": [
    "start_date = '1985-01-01'\n",
    "end_date = '2024-01-01'"
   ]
  },
  {
   "cell_type": "code",
   "execution_count": 11,
   "metadata": {
    "ExecuteTime": {
     "end_time": "2025-04-16T19:18:11.006375Z",
     "start_time": "2025-04-16T19:16:23.470286Z"
    },
    "colab": {
     "base_uri": "https://localhost:8080/",
     "height": 692
    },
    "id": "MOtCsh8SLjvR",
    "outputId": "aa917f2f-4fa0-4e6c-ecd6-41fe8a3e37ff"
   },
   "outputs": [
    {
     "name": "stderr",
     "output_type": "stream",
     "text": [
      "[*********************100%***********************]  502 of 502 completed\n",
      "\n",
      "502 Failed downloads:\n",
      "['ENPH', 'CLX', 'IDXX', 'JPM', 'DHR', 'SWKS', 'BWA', 'CDW', 'HIG', 'SYF', 'LH', 'ERIE', 'JNJ', 'T', 'HAS', 'AZO', 'NUE', 'QCOM', 'STT', 'CME', 'NDSN', 'DOW', 'ANSS', 'TRMB', 'CDNS', 'GEV', 'JBHT', 'REG', 'BR', 'MRNA', 'C', 'SBAC', 'EFX', 'KMX', 'MHK', 'CCL', 'MS', 'AMT', 'FAST', 'BAC', 'PFG', 'HUBB', 'CAT', 'LW', 'UNP', 'CSX', 'IP', 'GLW', 'IVZ', 'TT', 'META', 'UNH', 'ADBE', 'ZTS', 'SLB', 'DECK', 'PEP', 'AXP', 'PYPL', 'AJG', 'ROL', 'HSY', 'EA', 'MLM', 'FI', 'HII', 'ODFL', 'LUV', 'MOS', 'CTAS', 'ORLY', 'SMCI', 'MPWR', 'CMS', 'CRL', 'SW', 'DVN', 'LOW', 'NEE', 'SBUX', 'CCI', 'ZBRA', 'TFC', 'PSA', 'PAYC', 'XEL', 'SOLV', 'CTRA', 'UHS', 'PAYX', 'TMUS', 'UPS', 'AVY', 'AON', 'BAX', 'WMB', 'MTB', 'K', 'A', 'HCA', 'AEE', 'WEC', 'DRI', 'IR', 'KHC', 'HUM', 'AMZN', 'LLY', 'RCL', 'MU', 'WYNN', 'INCY', 'DAY', 'STLD', 'EVRG', 'FE', 'NWS', 'PLD', 'SWK', 'VLTO', 'FDX', 'AKAM', 'CPRT', 'LYV', 'CINF', 'GDDY', 'DFS', 'PG', 'RF', 'WY', 'MCK', 'AXON', 'CBOE', 'IQV', 'FCX', 'CFG', 'APH', 'TDG', 'LYB', 'KMI', 'TER', 'KMB', 'FFIV', 'HST', 'NWSA', 'ACN', 'BMY', 'EQT', 'DOV', 'NRG', 'NEM', 'VZ', 'BKNG', 'EMR', 'APD', 'CB', 'DVA', 'ITW', 'TSLA', 'MOH', 'GPC', 'TGT', 'AIG', 'CSGP', 'ETN', 'COF', 'ALGN', 'PODD', 'MA', 'HRL', 'STZ', 'WST', 'DLR', 'INVH', 'MAS', 'NTRS', 'APO', 'TMO', 'AMP', 'PLTR', 'ABBV', 'EG', 'FICO', 'CSCO', 'COR', 'LMT', 'IFF', 'FIS', 'XOM', 'VMC', 'NVDA', 'CNP', 'DLTR', 'EW', 'FMC', 'FOX', 'USB', 'CRM', 'BDX', 'OKE', 'VRTX', 'WMT', 'ANET', 'PANW', 'EXC', 'AMD', 'DELL', 'JBL', 'WAB', 'VRSN', 'TDY', 'RSG', 'NOW', 'EQIX', 'AWK', 'MCO', 'KVUE', 'TECH', 'PSX', 'CVX', 'GIS', 'CHRW', 'OTIS', 'GWW', 'ESS', 'AAPL', 'MSCI', 'NDAQ', 'SCHW', 'ECL', 'TFX', 'PTC', 'BA', 'EMN', 'HPQ', 'ABNB', 'AMGN', 'CZR', 'STX', 'HON', 'AES', 'AMAT', 'TXT', 'URI', 'PNW', 'BLDR', 'DE', 'ABT', 'WRB', 'YUM', 'BXP', 'MRK', 'KIM', 'AMCR', 'SNPS', 'WTW', 'AFL', 'MGM', 'POOL', 'ED', 'FOXA', 'PEG', 'L', 'PRU', 'NKE', 'SHW', 'GOOGL', 'MET', 'NVR', 'TRGP', 'CBRE', 'ROP', 'SPGI', 'GOOG', 'NCLH', 'DGX', 'GPN', 'PCG', 'MMM', 'KDP', 'BF-B', 'XYL', 'REGN', 'EOG', 'GEN', 'AIZ', 'DD', 'OXY', 'FTV', 'EXR', 'PGR', 'ISRG', 'BRO', 'TPL', 'TPR', 'SRE', 'HOLX', 'KKR', 'HPE', 'TEL', 'AVB', 'JKHY', 'CPB', 'GS', 'BK', 'PNC', 'HWM', 'VLO', 'MCD', 'NOC', 'KEY', 'EIX', 'BALL', 'BSX', 'CHTR', 'JNPR', 'SNA', 'IT', 'GRMN', 'KR', 'RTX', 'LEN', 'EQR', 'EXPE', 'F', 'APTV', 'MO', 'APA', 'HBAN', 'BRK-B', 'GEHC', 'CPT', 'MPC', 'PPL', 'DHI', 'VTRS', 'AVGO', 'PARA', 'MNST', 'EBAY', 'FITB', 'GE', 'IBM', 'VTR', 'GILD', 'DUK', 'MTD', 'CAH', 'LVS', 'LKQ', 'WDAY', 'SYY', 'RL', 'ORCL', 'EL', 'PHM', 'NTAP', 'COP', 'ELV', 'NXPI', 'WBD', 'PPG', 'BG', 'RMD', 'INTU', 'PCAR', 'CTVA', 'HAL', 'MKTX', 'ROK', 'TAP', 'KLAC', 'ATO', 'LHX', 'AME', 'CHD', 'BLK', 'WAT', 'MMC', 'DAL', 'NI', 'BBY', 'TXN', 'MCHP', 'TYL', 'CPAY', 'LRCX', 'CMCSA', 'HES', 'MTCH', 'IPG', 'ALB', 'KEYS', 'UDR', 'EXPD', 'IRM', 'ALLE', 'DTE', 'CARR', 'WELL', 'SPG', 'PFE', 'SJM', 'NSC', 'BIIB', 'EPAM', 'PM', 'ALL', 'CVS', 'WBA', 'GNRC', 'ACGL', 'DPZ', 'ROST', 'MKC', 'BEN', 'ULTA', 'CI', 'CNC', 'LIN', 'PWR', 'LULU', 'WFC', 'ADP', 'V', 'TRV', 'SYK', 'WM', 'INTC', 'FSLR', 'DXCM', 'TROW', 'PKG', 'GM', 'TSN', 'JCI', 'FDS', 'LDOS', 'HLT', 'CMI', 'MAA', 'MAR', 'CF', 'AEP', 'ZBH', 'UAL', 'OMC', 'PH', 'ADM', 'CL', 'MSFT', 'ES', 'COST', 'PNR', 'UBER', 'ADSK', 'RVTY', 'GD', 'BX', 'CTSH', 'CEG', 'MDT', 'CE', 'GL', 'DG', 'BKR', 'DOC', 'TSCO', 'KO', 'HSIC', 'CAG', 'FANG', 'CRWD', 'NFLX', 'WDC', 'AOS', 'ARE', 'MDLZ', 'ADI', 'VRSK', 'LNT', 'RJF', 'ICE', 'FTNT', 'TJX', 'STE', 'HD', 'IEX', 'LII', 'COO', 'VICI', 'TTWO', 'VST', 'DIS', 'CMG', 'FRT', 'MSI']: JSONDecodeError('Expecting value: line 1 column 1 (char 0)')\n",
      "['SO']: J%ticker%NDecodeError('Expecting value: line 1 column 1 (char 0)')\n",
      "['O']: JS%ticker%NDecodeError('Expecting value: line 1 column 1 (char 0)')\n",
      "['J']: %ticker%SONDecodeError('Expecting value: line 1 column 1 (char 0)')\n",
      "['D']: JSON%ticker%ecodeError('Expecting value: line 1 column 1 (char 0)')\n",
      "['ON']: JS%ticker%DecodeError('Expecting value: line 1 column 1 (char 0)')\n"
     ]
    },
    {
     "data": {
      "text/html": [
       "<div>\n",
       "<style scoped>\n",
       "    .dataframe tbody tr th:only-of-type {\n",
       "        vertical-align: middle;\n",
       "    }\n",
       "\n",
       "    .dataframe tbody tr th {\n",
       "        vertical-align: top;\n",
       "    }\n",
       "\n",
       "    .dataframe thead th {\n",
       "        text-align: right;\n",
       "    }\n",
       "</style>\n",
       "<table border=\"1\" class=\"dataframe\">\n",
       "  <thead>\n",
       "    <tr style=\"text-align: right;\">\n",
       "      <th>Ticker</th>\n",
       "      <th>A</th>\n",
       "      <th>AAPL</th>\n",
       "      <th>ABBV</th>\n",
       "      <th>ABNB</th>\n",
       "      <th>ABT</th>\n",
       "      <th>ACGL</th>\n",
       "      <th>ACN</th>\n",
       "      <th>ADBE</th>\n",
       "      <th>ADI</th>\n",
       "      <th>ADM</th>\n",
       "      <th>...</th>\n",
       "      <th>WTW</th>\n",
       "      <th>WY</th>\n",
       "      <th>WYNN</th>\n",
       "      <th>XEL</th>\n",
       "      <th>XOM</th>\n",
       "      <th>XYL</th>\n",
       "      <th>YUM</th>\n",
       "      <th>ZBH</th>\n",
       "      <th>ZBRA</th>\n",
       "      <th>ZTS</th>\n",
       "    </tr>\n",
       "    <tr>\n",
       "      <th>Date</th>\n",
       "      <th></th>\n",
       "      <th></th>\n",
       "      <th></th>\n",
       "      <th></th>\n",
       "      <th></th>\n",
       "      <th></th>\n",
       "      <th></th>\n",
       "      <th></th>\n",
       "      <th></th>\n",
       "      <th></th>\n",
       "      <th></th>\n",
       "      <th></th>\n",
       "      <th></th>\n",
       "      <th></th>\n",
       "      <th></th>\n",
       "      <th></th>\n",
       "      <th></th>\n",
       "      <th></th>\n",
       "      <th></th>\n",
       "      <th></th>\n",
       "      <th></th>\n",
       "    </tr>\n",
       "  </thead>\n",
       "  <tbody>\n",
       "  </tbody>\n",
       "</table>\n",
       "<p>0 rows × 502 columns</p>\n",
       "</div>"
      ],
      "text/plain": [
       "Empty DataFrame\n",
       "Columns: [A, AAPL, ABBV, ABNB, ABT, ACGL, ACN, ADBE, ADI, ADM, ADP, ADSK, AEE, AEP, AES, AFL, AIG, AIZ, AJG, AKAM, ALB, ALGN, ALL, ALLE, AMAT, AMCR, AMD, AME, AMGN, AMP, AMT, AMZN, ANET, ANSS, AON, AOS, APA, APD, APH, APO, APTV, ARE, ATO, AVB, AVGO, AVY, AWK, AXON, AXP, AZO, BA, BAC, BALL, BAX, BBY, BDX, BEN, BF-B, BG, BIIB, BK, BKNG, BKR, BLDR, BLK, BMY, BR, BRK-B, BRO, BSX, BWA, BX, BXP, C, CAG, CAH, CARR, CAT, CB, CBOE, CBRE, CCI, CCL, CDNS, CDW, CE, CEG, CF, CFG, CHD, CHRW, CHTR, CI, CINF, CL, CLX, CMCSA, CME, CMG, CMI, ...]\n",
       "Index: []\n",
       "\n",
       "[0 rows x 502 columns]"
      ]
     },
     "execution_count": 11,
     "metadata": {},
     "output_type": "execute_result"
    }
   ],
   "source": [
    "prices_df = yf.download(tickers, start=start_date, end=end_date, auto_adjust=True)['Close']\n",
    "prices_df"
   ]
  },
  {
   "cell_type": "code",
   "execution_count": 12,
   "metadata": {
    "ExecuteTime": {
     "end_time": "2025-04-16T19:18:11.138658Z",
     "start_time": "2025-04-16T19:18:11.090011Z"
    },
    "colab": {
     "base_uri": "https://localhost:8080/",
     "height": 660
    },
    "id": "iK-xDa7PMEd4",
    "outputId": "81477ad8-c462-43cc-9bd2-89afc368f0b2"
   },
   "outputs": [
    {
     "data": {
      "text/html": [
       "<div>\n",
       "<style scoped>\n",
       "    .dataframe tbody tr th:only-of-type {\n",
       "        vertical-align: middle;\n",
       "    }\n",
       "\n",
       "    .dataframe tbody tr th {\n",
       "        vertical-align: top;\n",
       "    }\n",
       "\n",
       "    .dataframe thead th {\n",
       "        text-align: right;\n",
       "    }\n",
       "</style>\n",
       "<table border=\"1\" class=\"dataframe\">\n",
       "  <thead>\n",
       "    <tr style=\"text-align: right;\">\n",
       "      <th>Ticker</th>\n",
       "      <th>A</th>\n",
       "      <th>AAPL</th>\n",
       "      <th>ABBV</th>\n",
       "      <th>ABNB</th>\n",
       "      <th>ABT</th>\n",
       "      <th>ACGL</th>\n",
       "      <th>ACN</th>\n",
       "      <th>ADBE</th>\n",
       "      <th>ADI</th>\n",
       "      <th>ADM</th>\n",
       "      <th>...</th>\n",
       "      <th>WTW</th>\n",
       "      <th>WY</th>\n",
       "      <th>WYNN</th>\n",
       "      <th>XEL</th>\n",
       "      <th>XOM</th>\n",
       "      <th>XYL</th>\n",
       "      <th>YUM</th>\n",
       "      <th>ZBH</th>\n",
       "      <th>ZBRA</th>\n",
       "      <th>ZTS</th>\n",
       "    </tr>\n",
       "    <tr>\n",
       "      <th>Date</th>\n",
       "      <th></th>\n",
       "      <th></th>\n",
       "      <th></th>\n",
       "      <th></th>\n",
       "      <th></th>\n",
       "      <th></th>\n",
       "      <th></th>\n",
       "      <th></th>\n",
       "      <th></th>\n",
       "      <th></th>\n",
       "      <th></th>\n",
       "      <th></th>\n",
       "      <th></th>\n",
       "      <th></th>\n",
       "      <th></th>\n",
       "      <th></th>\n",
       "      <th></th>\n",
       "      <th></th>\n",
       "      <th></th>\n",
       "      <th></th>\n",
       "      <th></th>\n",
       "    </tr>\n",
       "  </thead>\n",
       "  <tbody>\n",
       "  </tbody>\n",
       "</table>\n",
       "<p>0 rows × 502 columns</p>\n",
       "</div>"
      ],
      "text/plain": [
       "Empty DataFrame\n",
       "Columns: [A, AAPL, ABBV, ABNB, ABT, ACGL, ACN, ADBE, ADI, ADM, ADP, ADSK, AEE, AEP, AES, AFL, AIG, AIZ, AJG, AKAM, ALB, ALGN, ALL, ALLE, AMAT, AMCR, AMD, AME, AMGN, AMP, AMT, AMZN, ANET, ANSS, AON, AOS, APA, APD, APH, APO, APTV, ARE, ATO, AVB, AVGO, AVY, AWK, AXON, AXP, AZO, BA, BAC, BALL, BAX, BBY, BDX, BEN, BF-B, BG, BIIB, BK, BKNG, BKR, BLDR, BLK, BMY, BR, BRK-B, BRO, BSX, BWA, BX, BXP, C, CAG, CAH, CARR, CAT, CB, CBOE, CBRE, CCI, CCL, CDNS, CDW, CE, CEG, CF, CFG, CHD, CHRW, CHTR, CI, CINF, CL, CLX, CMCSA, CME, CMG, CMI, ...]\n",
       "Index: []\n",
       "\n",
       "[0 rows x 502 columns]"
      ]
     },
     "execution_count": 12,
     "metadata": {},
     "output_type": "execute_result"
    }
   ],
   "source": [
    "returns_df = prices_df.copy().pct_change()\n",
    "returns_df"
   ]
  },
  {
   "cell_type": "code",
   "execution_count": 13,
   "metadata": {
    "ExecuteTime": {
     "end_time": "2025-04-16T19:18:11.404963Z",
     "start_time": "2025-04-16T19:18:11.399880Z"
    },
    "id": "kDUGyTLGM2aW"
   },
   "outputs": [],
   "source": [
    "import pandas as pd\n",
    "returns_df.to_csv('returns.csv')"
   ]
  }
 ],
 "metadata": {
  "colab": {
   "provenance": []
  },
  "kernelspec": {
   "display_name": "Python 3",
   "language": "python",
   "name": "python3"
  },
  "language_info": {
   "codemirror_mode": {
    "name": "ipython",
    "version": 3
   },
   "file_extension": ".py",
   "mimetype": "text/x-python",
   "name": "python",
   "nbconvert_exporter": "python",
   "pygments_lexer": "ipython3",
   "version": "3.11.9"
  }
 },
 "nbformat": 4,
 "nbformat_minor": 0
}
